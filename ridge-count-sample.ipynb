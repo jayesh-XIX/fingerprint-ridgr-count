{
  "nbformat": 4,
  "nbformat_minor": 0,
  "metadata": {
    "colab": {
      "provenance": []
    },
    "kernelspec": {
      "name": "python3",
      "display_name": "Python 3"
    },
    "language_info": {
      "name": "python"
    }
  },
  "cells": [
    {
      "cell_type": "code",
      "source": [
        "import cv2\n",
        "import numpy as np\n",
        "from skimage.morphology import skeletonize\n",
        "\n",
        "def count_ridges():\n",
        "    # Read the fingerprint image\n",
        "    img = cv2.imread('/content/101_1 (1).jpg', 0)\n",
        "\n",
        "    # Binarize the image using adaptive thresholding\n",
        "    _, threshold = cv2.threshold(img, 0, 255, cv2.THRESH_BINARY_INV + cv2.THRESH_OTSU)\n",
        "\n",
        "    # Apply morphological operations to enhance the ridges\n",
        "    kernel = np.ones((3, 3), np.uint8)\n",
        "    closing = cv2.morphologyEx(threshold, cv2.MORPH_CLOSE, kernel, iterations=1)\n",
        "    skeleton = skeletonize(closing / 255)  # Skeletonize the image\n",
        "\n",
        "    # Count the number of ridge pixels\n",
        "    ridge_count = np.sum(skeleton)\n",
        "\n",
        "    return ridge_count\n",
        "\n",
        "# Replace 'fingerprint_image.jpg' with your fingerprint image file path\n",
        "image_path = img\n",
        "#ridge_count = count_ridges(img)\n",
        "print(f\"The number of ridges in the fingerprint: {ridge_count}\")\n"
      ],
      "metadata": {
        "colab": {
          "base_uri": "https://localhost:8080/"
        },
        "id": "I-b7K93lVopc",
        "outputId": "90084ff7-df89-4d0a-d989-bd5beef6489d"
      },
      "execution_count": 28,
      "outputs": [
        {
          "output_type": "stream",
          "name": "stdout",
          "text": [
            "The number of ridges in the fingerprint: 28\n"
          ]
        }
      ]
    }
  ]
}